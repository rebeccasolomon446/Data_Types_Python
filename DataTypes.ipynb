{
 "cells": [
  {
   "cell_type": "code",
   "execution_count": 2,
   "id": "b8e752eb",
   "metadata": {},
   "outputs": [
    {
     "name": "stdout",
     "output_type": "stream",
     "text": [
      "Rebecca\n"
     ]
    }
   ],
   "source": [
    "# Printing\n",
    "name = 'Rebecca'\n",
    "print(name)"
   ]
  },
  {
   "cell_type": "code",
   "execution_count": 4,
   "id": "e67d7e93",
   "metadata": {},
   "outputs": [
    {
     "name": "stdout",
     "output_type": "stream",
     "text": [
      "23\n"
     ]
    }
   ],
   "source": [
    "age = 23;\n",
    "print(age)"
   ]
  },
  {
   "cell_type": "code",
   "execution_count": 6,
   "id": "6f9f92f1",
   "metadata": {},
   "outputs": [
    {
     "name": "stdout",
     "output_type": "stream",
     "text": [
      "161\n"
     ]
    }
   ],
   "source": [
    "dog_age = age * 7\n",
    "print(dog_age)"
   ]
  },
  {
   "cell_type": "code",
   "execution_count": 9,
   "id": "f76118c4",
   "metadata": {},
   "outputs": [
    {
     "name": "stdout",
     "output_type": "stream",
     "text": [
      "<class 'int'>\n"
     ]
    }
   ],
   "source": [
    "# checking data types\n",
    "print(type(age))"
   ]
  },
  {
   "cell_type": "code",
   "execution_count": 11,
   "id": "2ca8cd8e",
   "metadata": {},
   "outputs": [
    {
     "name": "stdout",
     "output_type": "stream",
     "text": [
      "Rebecca\n"
     ]
    }
   ],
   "source": [
    "my_name = 'rebecca'\n",
    "print(name)"
   ]
  },
  {
   "cell_type": "code",
   "execution_count": 13,
   "id": "84f8d160",
   "metadata": {},
   "outputs": [
    {
     "data": {
      "text/plain": [
       "7"
      ]
     },
     "execution_count": 13,
     "metadata": {},
     "output_type": "execute_result"
    }
   ],
   "source": [
    "# length of name value\n",
    "len(name)"
   ]
  },
  {
   "cell_type": "code",
   "execution_count": 14,
   "id": "1407b316",
   "metadata": {},
   "outputs": [
    {
     "name": "stdout",
     "output_type": "stream",
     "text": [
      "solomon\n"
     ]
    }
   ],
   "source": [
    "my_last_name = 'solomon'\n",
    "print(my_last_name)"
   ]
  },
  {
   "cell_type": "code",
   "execution_count": 21,
   "id": "e74194b1",
   "metadata": {},
   "outputs": [
    {
     "data": {
      "text/plain": [
       "'rebecca solomon'"
      ]
     },
     "execution_count": 21,
     "metadata": {},
     "output_type": "execute_result"
    }
   ],
   "source": [
    "# concatenation\n",
    "my_name + ' ' + my_last_name"
   ]
  },
  {
   "cell_type": "code",
   "execution_count": 25,
   "id": "a6f3787a",
   "metadata": {},
   "outputs": [
    {
     "name": "stdout",
     "output_type": "stream",
     "text": [
      "My name is rebecca solomon.\n"
     ]
    }
   ],
   "source": [
    "print('My name is ' + my_name + ' ' + my_last_name + '.')"
   ]
  },
  {
   "cell_type": "code",
   "execution_count": 29,
   "id": "b0f68d2e",
   "metadata": {},
   "outputs": [
    {
     "name": "stdout",
     "output_type": "stream",
     "text": [
      "rebecca solomon\n"
     ]
    }
   ],
   "source": [
    "full_name = my_name + ' ' + my_last_name\n",
    "print(full_name)"
   ]
  },
  {
   "cell_type": "code",
   "execution_count": 31,
   "id": "324f18b4",
   "metadata": {},
   "outputs": [
    {
     "name": "stdout",
     "output_type": "stream",
     "text": [
      "Hello, my name is rebecca solomon and I am 23 years old.\n"
     ]
    }
   ],
   "source": [
    "# interpolation\n",
    "print(f'Hello, my name is {full_name} and I am {age} years old.')"
   ]
  },
  {
   "cell_type": "code",
   "execution_count": 36,
   "id": "40976e82",
   "metadata": {},
   "outputs": [
    {
     "name": "stdout",
     "output_type": "stream",
     "text": [
      "hello my name is lucy\n"
     ]
    }
   ],
   "source": [
    "print('hello my name is {name}'.format(name='lucy'))"
   ]
  },
  {
   "cell_type": "code",
   "execution_count": 40,
   "id": "b5c97031",
   "metadata": {},
   "outputs": [
    {
     "name": "stdout",
     "output_type": "stream",
     "text": [
      "['student1', 23, 'name', 12.6]\n"
     ]
    }
   ],
   "source": [
    "# Lists\n",
    "list = ['student1', 23, 'name', 12.6]\n",
    "print(list)"
   ]
  },
  {
   "cell_type": "code",
   "execution_count": 21,
   "id": "111f8f4d",
   "metadata": {},
   "outputs": [
    {
     "name": "stdout",
     "output_type": "stream",
     "text": [
      "['milk', 'bananas', 'cake']\n"
     ]
    }
   ],
   "source": [
    "grocery_list = ['milk', 'bananas', 'cake']\n",
    "print(grocery_list)"
   ]
  },
  {
   "cell_type": "code",
   "execution_count": 22,
   "id": "0da0db09",
   "metadata": {},
   "outputs": [
    {
     "name": "stdout",
     "output_type": "stream",
     "text": [
      "<class 'list'>\n"
     ]
    }
   ],
   "source": [
    "print(type(grocery_list))"
   ]
  },
  {
   "cell_type": "code",
   "execution_count": 23,
   "id": "d9e1856c",
   "metadata": {},
   "outputs": [
    {
     "data": {
      "text/plain": [
       "'bananas'"
      ]
     },
     "execution_count": 23,
     "metadata": {},
     "output_type": "execute_result"
    }
   ],
   "source": [
    "# accessing the element in the list at index 1\n",
    "grocery_list[1]"
   ]
  },
  {
   "cell_type": "code",
   "execution_count": 24,
   "id": "44ed4ee6",
   "metadata": {},
   "outputs": [
    {
     "name": "stdout",
     "output_type": "stream",
     "text": [
      "['milk', 'bananas', 'apples']\n"
     ]
    }
   ],
   "source": [
    "# reassigning the element at index 2\n",
    "grocery_list[2] = 'apples'\n",
    "print(grocery_list)"
   ]
  },
  {
   "cell_type": "code",
   "execution_count": 25,
   "id": "277ac9ae",
   "metadata": {},
   "outputs": [
    {
     "name": "stdout",
     "output_type": "stream",
     "text": [
      "apples\n"
     ]
    }
   ],
   "source": [
    "# removing the last element in the list\n",
    "print(grocery_list.pop())"
   ]
  },
  {
   "cell_type": "code",
   "execution_count": 26,
   "id": "6f3ffc9f",
   "metadata": {},
   "outputs": [
    {
     "name": "stdout",
     "output_type": "stream",
     "text": [
      "['milk', 'bananas']\n"
     ]
    }
   ],
   "source": [
    "print(grocery_list)"
   ]
  },
  {
   "cell_type": "code",
   "execution_count": 27,
   "id": "ab5b8921",
   "metadata": {},
   "outputs": [
    {
     "name": "stdout",
     "output_type": "stream",
     "text": [
      "['milk', 'bananas', 'cookies']\n"
     ]
    }
   ],
   "source": [
    "# adding an new element to the end of the list\n",
    "grocery_list.append('cookies')\n",
    "print(grocery_list)"
   ]
  },
  {
   "cell_type": "code",
   "execution_count": 28,
   "id": "eef9219a",
   "metadata": {},
   "outputs": [
    {
     "name": "stdout",
     "output_type": "stream",
     "text": [
      "['milk', 'bananas', 'cookies', 'icecream']\n"
     ]
    }
   ],
   "source": [
    "grocery_list.append('icecream')\n",
    "print(grocery_list)"
   ]
  },
  {
   "cell_type": "code",
   "execution_count": 29,
   "id": "315b272a",
   "metadata": {},
   "outputs": [
    {
     "name": "stdout",
     "output_type": "stream",
     "text": [
      "['milk', 'cookies', 'icecream']\n"
     ]
    }
   ],
   "source": [
    "# removing the element at a specific index\n",
    "grocery_list.remove(grocery_list[1])\n",
    "print(grocery_list)"
   ]
  },
  {
   "cell_type": "code",
   "execution_count": 30,
   "id": "699eaa5d",
   "metadata": {},
   "outputs": [
    {
     "name": "stdout",
     "output_type": "stream",
     "text": [
      "icecream\n"
     ]
    }
   ],
   "source": [
    "print(grocery_list.pop())"
   ]
  },
  {
   "cell_type": "code",
   "execution_count": 31,
   "id": "cf50292f",
   "metadata": {},
   "outputs": [
    {
     "name": "stdout",
     "output_type": "stream",
     "text": [
      "['milk', 'cookies']\n"
     ]
    }
   ],
   "source": [
    "print(grocery_list)"
   ]
  },
  {
   "cell_type": "code",
   "execution_count": 32,
   "id": "89589624",
   "metadata": {},
   "outputs": [
    {
     "name": "stdout",
     "output_type": "stream",
     "text": [
      "('apples', 'oranges', 'pears')\n"
     ]
    }
   ],
   "source": [
    "#Touples\n",
    "grocery_list_2 = ('apples', 'oranges', 'pears')\n",
    "print(grocery_list_2)"
   ]
  },
  {
   "cell_type": "code",
   "execution_count": 33,
   "id": "25d9df85",
   "metadata": {},
   "outputs": [
    {
     "name": "stdout",
     "output_type": "stream",
     "text": [
      "<class 'tuple'>\n"
     ]
    }
   ],
   "source": [
    "print(type(grocery_list_2))"
   ]
  },
  {
   "cell_type": "code",
   "execution_count": 34,
   "id": "e46fa7fd",
   "metadata": {},
   "outputs": [],
   "source": [
    "#Dictionaries:\n",
    "# indexing not allowed"
   ]
  },
  {
   "cell_type": "code",
   "execution_count": 35,
   "id": "a2e6e35a",
   "metadata": {},
   "outputs": [
    {
     "name": "stdout",
     "output_type": "stream",
     "text": [
      "{'Name': ['Gina', 'Kaci'], 'Age': 40, 'Nationality': 'Greek'}\n"
     ]
    }
   ],
   "source": [
    "student_details = {'Name':['Gina','Kaci'], \n",
    "                   'Age': 40, \n",
    "                   'Nationality': 'Greek'}\n",
    "print(student_details)"
   ]
  },
  {
   "cell_type": "code",
   "execution_count": 96,
   "id": "e7eb4f89",
   "metadata": {},
   "outputs": [
    {
     "name": "stdout",
     "output_type": "stream",
     "text": [
      "['Gina', 'Kaci']\n",
      "Kaci\n"
     ]
    }
   ],
   "source": [
    "# Acessing name of student\n",
    "print(student_details['Name'])\n",
    "# Acessing just one name\n",
    "print(student_details['Name'][1])"
   ]
  },
  {
   "cell_type": "code",
   "execution_count": 90,
   "id": "c2ad8cc6",
   "metadata": {},
   "outputs": [
    {
     "name": "stdout",
     "output_type": "stream",
     "text": [
      "['Gina', 'Kaci']\n"
     ]
    }
   ],
   "source": [
    "#using .get() method to access values\n",
    "print(student_details.get('Name'))"
   ]
  },
  {
   "cell_type": "code",
   "execution_count": 92,
   "id": "4e44b351",
   "metadata": {},
   "outputs": [
    {
     "name": "stdout",
     "output_type": "stream",
     "text": [
      "None\n"
     ]
    }
   ],
   "source": [
    "#using get for a key that does not exist will return 'none'. If other method used, will get error\n",
    "print(student_details.get('Gender'))"
   ]
  },
  {
   "cell_type": "code",
   "execution_count": 51,
   "id": "51db28f8",
   "metadata": {},
   "outputs": [
    {
     "name": "stdout",
     "output_type": "stream",
     "text": [
      "['hi', 'hi', 'hey', 'there']\n"
     ]
    }
   ],
   "source": [
    "greetings_list = ['hi', 'hi', 'hey', 'there']\n",
    "print(greetings_list)"
   ]
  },
  {
   "cell_type": "code",
   "execution_count": 52,
   "id": "d2e712fd",
   "metadata": {},
   "outputs": [],
   "source": [
    "greetings_list.remove(greetings_list[1])   #or del greetings_list[0]"
   ]
  },
  {
   "cell_type": "code",
   "execution_count": 54,
   "id": "ec780dcb",
   "metadata": {},
   "outputs": [
    {
     "name": "stdout",
     "output_type": "stream",
     "text": [
      "['hi', 'hey', 'there']\n"
     ]
    }
   ],
   "source": [
    "print(greetings_list)"
   ]
  },
  {
   "cell_type": "code",
   "execution_count": 41,
   "id": "eb79c613",
   "metadata": {},
   "outputs": [],
   "source": []
  }
 ],
 "metadata": {
  "kernelspec": {
   "display_name": "Python 3 (ipykernel)",
   "language": "python",
   "name": "python3"
  },
  "language_info": {
   "codemirror_mode": {
    "name": "ipython",
    "version": 3
   },
   "file_extension": ".py",
   "mimetype": "text/x-python",
   "name": "python",
   "nbconvert_exporter": "python",
   "pygments_lexer": "ipython3",
   "version": "3.9.13"
  }
 },
 "nbformat": 4,
 "nbformat_minor": 5
}
